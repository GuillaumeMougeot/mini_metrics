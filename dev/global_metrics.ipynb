{
 "cells": [
  {
   "cell_type": "code",
   "execution_count": null,
   "id": "7adfe815-bc30-4eef-af3d-03414100e3a9",
   "metadata": {},
   "outputs": [],
   "source": [
    "import numpy as np\n",
    "from pathlib import Path\n",
    "import pandas as pd"
   ]
  },
  {
   "cell_type": "code",
   "execution_count": null,
   "id": "211c81b3-8059-4178-9b9b-31bf49357f95",
   "metadata": {},
   "outputs": [],
   "source": [
    "path = Path(\"../mini_results.csv\")"
   ]
  },
  {
   "cell_type": "code",
   "execution_count": null,
   "id": "0bbbe161-3b74-4fa6-9725-48659173e7df",
   "metadata": {},
   "outputs": [],
   "source": [
    "df = pd.read_csv(path)"
   ]
  },
  {
   "cell_type": "code",
   "execution_count": null,
   "id": "352855ae-84d4-41bd-98a5-53db16f2885c",
   "metadata": {},
   "outputs": [],
   "source": [
    "df"
   ]
  },
  {
   "cell_type": "code",
   "execution_count": null,
   "id": "97abcee1-e08d-4022-a7e8-d64568b4cba5",
   "metadata": {},
   "outputs": [],
   "source": [
    "df['instance_id'].nunique()"
   ]
  },
  {
   "cell_type": "code",
   "execution_count": null,
   "id": "207195ad-692a-48cd-9f81-7ea3508d750a",
   "metadata": {},
   "outputs": [],
   "source": [
    "rewardm = pd.Series([3,2,1])\n",
    "rewardm[df['level']]"
   ]
  },
  {
   "cell_type": "code",
   "execution_count": null,
   "id": "38978491-cc3b-454f-b896-e6ff0f8774f7",
   "metadata": {},
   "outputs": [],
   "source": [
    "df.where(\n",
    "    df['confidence']>df['threshold'], \n",
    "    df.where(\n",
    "        df['label']==df['prediction'],\n",
    "        rewards[df['level']], \n",
    "        penalties[df['level']]),\n",
    "    0)"
   ]
  },
  {
   "cell_type": "code",
   "execution_count": null,
   "id": "1de62aa6-64de-4d9c-910f-f0215490cc71",
   "metadata": {},
   "outputs": [],
   "source": [
    "# if the prediction is not made put 0, if the prediction is made, either put 1 or -1\n",
    "# rewards = lambda level: (3-level)/6\n",
    "rewards = pd.Series([1/2 - x/6 for x in range(3)])\n",
    "# penalties = lambda level: (-1-level)/6)\n",
    "penalties = pd.Series([-(1+x)/6 for x in range(3)])\n",
    "\n",
    "m = np.where(\n",
    "    df['confidence']>df['threshold'], \n",
    "    np.where(\n",
    "        df['label']==df['prediction'],\n",
    "        rewards[df['level']], \n",
    "        penalties[df['level']]),\n",
    "    0)\n",
    "print(\"Score: \", sum(m)/df['instance_id'].nunique())\n",
    "\n",
    "nl = df['level'].nunique() # number of levels\n",
    "m = m.reshape((len(df)//nl, nl))\n",
    "m"
   ]
  },
  {
   "cell_type": "code",
   "execution_count": null,
   "id": "a6df1da8-d819-4fc1-9c9c-37c7b4479a91",
   "metadata": {},
   "outputs": [],
   "source": [
    "M = np.array(\n",
    "    [[-1,-2,-3],\n",
    "     [ 0, 0, 0],\n",
    "     [ 3, 2, 1]])"
   ]
  },
  {
   "cell_type": "code",
   "execution_count": null,
   "id": "ab8a50bb-a1e9-40b7-8244-9c391dbce9bd",
   "metadata": {},
   "outputs": [],
   "source": [
    "m.dot(M)"
   ]
  }
 ],
 "metadata": {
  "kernelspec": {
   "display_name": "Python 3 (ipykernel)",
   "language": "python",
   "name": "python3"
  },
  "language_info": {
   "codemirror_mode": {
    "name": "ipython",
    "version": 3
   },
   "file_extension": ".py",
   "mimetype": "text/x-python",
   "name": "python",
   "nbconvert_exporter": "python",
   "pygments_lexer": "ipython3",
   "version": "3.14.0"
  }
 },
 "nbformat": 4,
 "nbformat_minor": 5
}
